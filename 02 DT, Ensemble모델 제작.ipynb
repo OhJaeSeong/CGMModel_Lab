{
 "cells": [
  {
   "cell_type": "markdown",
   "id": "a2005d14",
   "metadata": {},
   "source": [
    "#### Decision Tree, Ensemble 모델\n",
    "231019"
   ]
  },
  {
   "cell_type": "code",
   "execution_count": 1,
   "id": "92ab123b",
   "metadata": {},
   "outputs": [],
   "source": [
    "from sklearn.ensemble import RandomForestClassifier\n",
    "from sklearn.ensemble import GradientBoostingClassifier\n",
    "from xgboost import XGBClassifier\n",
    "\n",
    "from sklearn.metrics import roc_auc_score, recall_score, precision_score, f1_score\n",
    "# import warnings\n",
    "# warnings.filterwarnings(\"ignore\")\n",
    "from tqdm import tqdm\n",
    "\n",
    "# K-Fold\n",
    "from sklearn.model_selection import KFold\n",
    "kf=KFold(n_splits=5, shuffle=True)"
   ]
  },
  {
   "cell_type": "markdown",
   "id": "6342f264",
   "metadata": {},
   "source": [
    "#### Random Forest, XGBoost, GrandientBoost 3개의 모델 생성"
   ]
  },
  {
   "cell_type": "code",
   "execution_count": 2,
   "id": "db65f7b2",
   "metadata": {},
   "outputs": [],
   "source": [
    "RF=RandomForestClassifier(max_depth=20, n_estimators=200, random_state=0)\n",
    "XGB= XGBClassifier(n_estimators=200, max_depth=4,n_jobs=-1)\n",
    "GBM = GradientBoostingClassifier(max_depth=3, n_estimators=200, random_state=0)"
   ]
  },
  {
   "cell_type": "markdown",
   "id": "33850702",
   "metadata": {},
   "source": [
    "#### score 저장용 dict"
   ]
  },
  {
   "cell_type": "code",
   "execution_count": 3,
   "id": "355e14e3",
   "metadata": {},
   "outputs": [],
   "source": [
    "score = {\n",
    "    'RF' :{\n",
    "        'accuracy' : [], 'precision' : [], 'recall' : [], 'f1_score' : [],\n",
    "    },\n",
    "    'XGB' :{\n",
    "        'accuracy' : [], 'precision' : [], 'recall' : [], 'f1_score' : [],\n",
    "    },\n",
    "    'GBM' :{\n",
    "        'accuracy' : [], 'precision' : [], 'recall' : [], 'f1_score' : [],\n",
    "    },\n",
    "    'DNN' :{\n",
    "        'accuracy' : [], 'precision' : [], 'recall' : [], 'f1_score' : [],\n",
    "    },\n",
    "}"
   ]
  },
  {
   "cell_type": "markdown",
   "id": "ace2929c",
   "metadata": {},
   "source": [
    "#### 일단 MinMax Scaling"
   ]
  },
  {
   "cell_type": "code",
   "execution_count": 4,
   "id": "4bd07107",
   "metadata": {},
   "outputs": [],
   "source": [
    "import pandas as pd\n",
    "\n",
    "origin_csv = pd.read_csv('data/Glucose_Set-2A-1.csv')\n",
    "# df = df.sample(frac = 1)\n",
    "usable_data = pd.DataFrame()\n",
    "usable_data = pd.concat([origin_csv['mPD1_AL-D'], origin_csv['mPD2_AL-D'], origin_csv['mPD3_AL-D'], \n",
    "                         origin_csv['T-rPD_AL-D'], origin_csv['R-rPD_AL-D'],\n",
    "                         origin_csv['LD_C_Av'], origin_csv['T-rPD'], origin_csv['Th3_C'], origin_csv['Th4_C'], origin_csv['Th6_C'],\n",
    "                         origin_csv['Th3_AvD'], origin_csv['Th4_AvD'], origin_csv['Th6_AvD'],\n",
    "                         origin_csv['mPD1'], origin_csv['mPD2'], origin_csv['mPD3'], origin_csv['Glucose']], axis = 1, sort = False)\n",
    "\n",
    "usable_data = usable_data.sample(frac = 1)\n",
    "\n",
    "from sklearn.preprocessing import MinMaxScaler\n",
    "from sklearn.model_selection import train_test_split\n",
    "\n",
    "mMscaler = MinMaxScaler()\n",
    "mMscaler.fit(usable_data)\n",
    "\n",
    "mMscaled_data = mMscaler.transform(usable_data)\n",
    "x_data = pd.DataFrame(mMscaled_data)\n",
    "\n",
    "x_data = x_data.replace(('Glucose',1.0), 8)\n",
    "x_data = x_data.replace(('Glucose',0.3), 1)\n",
    "x_data = x_data.replace(('Glucose',0.4), 2)\n",
    "x_data = x_data.replace(('Glucose',0.5), 3)\n",
    "x_data = x_data.replace(('Glucose',0.6), 4)\n",
    "x_data = x_data.replace(('Glucose',0.7000000000000001), 5)\n",
    "x_data = x_data.replace(('Glucose',0.8), 6)\n",
    "x_data = x_data.replace(('Glucose',0.9), 7)\n",
    "# x_data = x_data.replace(('Glucose',0.7), 5)"
   ]
  },
  {
   "cell_type": "code",
   "execution_count": 5,
   "id": "45059358",
   "metadata": {},
   "outputs": [],
   "source": [
    "y_input = x_data[16]\n",
    "\n",
    "x_input = x_data[0]\n",
    "x_input = pd.concat([x_input ,x_data[1]], axis = 1, sort = False) \n",
    "x_input = pd.concat([x_input ,x_data[2]], axis = 1, sort = False)\n",
    "x_input = pd.concat([x_input ,x_data[3]], axis = 1, sort = False)\n",
    "x_input = pd.concat([x_input ,x_data[4]], axis = 1, sort = False)\n",
    "x_input = pd.concat([x_input ,x_data[5]], axis = 1, sort = False)\n",
    "x_input = pd.concat([x_input ,x_data[6]], axis = 1, sort = False)\n",
    "x_input = pd.concat([x_input ,x_data[7]], axis = 1, sort = False)\n",
    "x_input = pd.concat([x_input ,x_data[8]], axis = 1, sort = False)\n",
    "x_input = pd.concat([x_input ,x_data[9]], axis = 1, sort = False)\n",
    "x_input = pd.concat([x_input ,x_data[10]], axis = 1, sort = False)\n",
    "x_input = pd.concat([x_input ,x_data[11]], axis = 1, sort = False)\n",
    "x_input = pd.concat([x_input ,x_data[12]], axis = 1, sort = False)\n",
    "x_input = pd.concat([x_input ,x_data[13]], axis = 1, sort = False)\n",
    "x_input = pd.concat([x_input ,x_data[14]], axis = 1, sort = False)\n",
    "x_input = pd.concat([x_input ,x_data[15]], axis = 1, sort = False)\n",
    "\n",
    "# df_x_train, df_x_test, df_y_train, df_y_test = train_test_split(df_x_data, df_y_data, test_size=0.3, random_s\n",
    "df_x_train, df_x_test, df_y_train, df_y_test = train_test_split(x_input, y_input, test_size=0.1, random_state=777, stratify=y_input)"
   ]
  },
  {
   "cell_type": "markdown",
   "id": "d3f9dc75",
   "metadata": {},
   "source": [
    "#### 3개의 모델에 대한 train"
   ]
  },
  {
   "cell_type": "code",
   "execution_count": 6,
   "id": "f9a81072",
   "metadata": {},
   "outputs": [],
   "source": [
    "# RF.fit(x_input, y_input.ravel())\n",
    "# XGB.fit(x_input, y_input.ravel(), eval_metric=[\"logloss\"], verbose=True)\n",
    "# GBM.fit(x_input, y_input.ravel())"
   ]
  },
  {
   "cell_type": "code",
   "execution_count": 7,
   "id": "52a1f5ef",
   "metadata": {
    "scrolled": true
   },
   "outputs": [
    {
     "name": "stderr",
     "output_type": "stream",
     "text": [
      "0it [00:00, ?it/s]C:\\Users\\ojski\\anaconda3\\envs\\HnsEnv\\lib\\site-packages\\xgboost\\sklearn.py:885: UserWarning: `eval_metric` in `fit` method is deprecated for better compatibility with scikit-learn, use `eval_metric` in constructor or`set_params` instead.\n",
      "  warnings.warn(\n",
      "1it [00:28, 28.62s/it]C:\\Users\\ojski\\anaconda3\\envs\\HnsEnv\\lib\\site-packages\\xgboost\\sklearn.py:885: UserWarning: `eval_metric` in `fit` method is deprecated for better compatibility with scikit-learn, use `eval_metric` in constructor or`set_params` instead.\n",
      "  warnings.warn(\n",
      "2it [00:56, 28.38s/it]C:\\Users\\ojski\\anaconda3\\envs\\HnsEnv\\lib\\site-packages\\xgboost\\sklearn.py:885: UserWarning: `eval_metric` in `fit` method is deprecated for better compatibility with scikit-learn, use `eval_metric` in constructor or`set_params` instead.\n",
      "  warnings.warn(\n",
      "3it [01:25, 28.44s/it]C:\\Users\\ojski\\anaconda3\\envs\\HnsEnv\\lib\\site-packages\\xgboost\\sklearn.py:885: UserWarning: `eval_metric` in `fit` method is deprecated for better compatibility with scikit-learn, use `eval_metric` in constructor or`set_params` instead.\n",
      "  warnings.warn(\n",
      "4it [01:54, 28.74s/it]C:\\Users\\ojski\\anaconda3\\envs\\HnsEnv\\lib\\site-packages\\xgboost\\sklearn.py:885: UserWarning: `eval_metric` in `fit` method is deprecated for better compatibility with scikit-learn, use `eval_metric` in constructor or`set_params` instead.\n",
      "  warnings.warn(\n",
      "5it [02:23, 28.68s/it]\n"
     ]
    }
   ],
   "source": [
    "for train_index, test_index in tqdm(kf.split(df_x_train, df_y_train)):\n",
    "    x_train, x_test, y_train, y_test=\\\n",
    "    df_x_train.iloc[train_index], df_x_train.iloc[test_index], df_y_train.iloc[train_index], df_y_train.iloc[test_index]\n",
    "    \n",
    "    RF.fit(x_train, y_train.ravel())\n",
    "    XGB.fit(x_train, y_train.ravel(), eval_metric=[\"logloss\"], verbose=True)\n",
    "    GBM.fit(x_train, y_train.ravel())\n",
    "#     DNN.fit(x_train, encoder.fit_transform(y_train), batch_size=10, epochs=50)\n",
    "    \n",
    "    score['RF']['accuracy'].append(RF.score(x_test, y_test.values.ravel()))\n",
    "    \n",
    "    score['XGB']['accuracy'].append(XGB.score(x_test, y_test.values.ravel()))\n",
    "    \n",
    "    score['GBM']['accuracy'].append(GBM.score(x_test, y_test.values.ravel()))\n",
    "\n",
    "\n",
    "# score['RF']['accuracy'].append(RF.score(df_x_train, df_y_train.ravel()))\n",
    "# # score['RF']['precision'].append(precision_score(RF.predict(df_x_train),  df_y_train))\n",
    "# # score['RF']['recall'].append(recall_score(RF.predict(df_x_train),  df_y_train))\n",
    "# # score['RF']['f1_score'].append(f1_score(RF.predict(df_x_train),  df_y_train))\n",
    "\n",
    "# score['XGB']['accuracy'].append(XGB.score(df_x_train, df_y_train.values.ravel()))\n",
    "# # score['XGB']['precision'].append(precision_score(XGB.predict(df_x_train), df_y_train))\n",
    "# # score['XGB']['recall'].append(recall_score(XGB.predict(df_x_train), df_y_train))\n",
    "# # score['XGB']['f1_score'].append(f1_score(XGB.predict(df_x_train), df_y_train))\n",
    "\n",
    "# score['GBM']['accuracy'].append(GBM.score(df_x_train, df_y_train.values.ravel()))\n",
    "# # score['GBM']['precision'].append(precision_score(GBM.predict(df_x_train), df_y_train))\n",
    "# # score['GBM']['recall'].append(recall_score(GBM.predict(df_x_train), df_y_train))\n",
    "# # score['GBM']['f1_score'].append(f1_score(GBM.predict(df_x_train), df_y_train))"
   ]
  },
  {
   "cell_type": "code",
   "execution_count": 8,
   "id": "9c40d9a5",
   "metadata": {},
   "outputs": [
    {
     "name": "stdout",
     "output_type": "stream",
     "text": [
      "1-1. RandomForestClassifier [평균 Accuracy] : 99.44181737468878 ,  [Accuracy 편차] : 0.003899938840550474\n",
      "2-1. XGBOOSTClassifier [평균 Accuracy] : 98.57913055786094 ,  [Accuracy 편차] : 0.00629278054593741\n",
      "3-1. GradientBoostingClassifier [평균 Accuracy] : 97.79306839602914 ,  [Accuracy 편차] : 0.0026048218262329026\n"
     ]
    }
   ],
   "source": [
    "import numpy as np\n",
    "print(f'1-1. RandomForestClassifier [평균 Accuracy] :', np.mean(score['RF']['accuracy'])*100 , ',  [Accuracy 편차] :', np.std(score['RF']['accuracy']))\n",
    "\n",
    "print(f'2-1. XGBOOSTClassifier [평균 Accuracy] :', np.mean(score['XGB']['accuracy'])*100 , ',  [Accuracy 편차] :', np.std(score['XGB']['accuracy']))\n",
    "\n",
    "print(f'3-1. GradientBoostingClassifier [평균 Accuracy] :', np.mean(score['GBM']['accuracy'])*100 , ',  [Accuracy 편차] :', np.std(score['GBM']['accuracy']))"
   ]
  },
  {
   "cell_type": "code",
   "execution_count": 19,
   "id": "2f7c534a",
   "metadata": {},
   "outputs": [
    {
     "name": "stdout",
     "output_type": "stream",
     "text": [
      "            0         1         2         3         4         5         6   \\\n",
      "3436  0.997971  0.000199  0.000171  0.997134  0.773587  0.097087  0.997060   \n",
      "1682  0.440758  0.000155  0.000403  0.375299  0.371071  0.000000  0.375200   \n",
      "3714  0.000613  0.000334  0.531098  0.000281  0.122640  0.699029  0.000401   \n",
      "\n",
      "            7         8         9         10        11        12        13  \\\n",
      "3436  0.050331  0.020000  0.747875  0.012179  0.002257  0.743565  0.997546   \n",
      "1682  0.598675  0.393333  0.648725  0.607578  0.392777  0.651096  0.440370   \n",
      "3714  0.218543  0.320000  0.880076  0.216509  0.316027  0.882745  0.000578   \n",
      "\n",
      "            14        15  \n",
      "3436  0.000198  0.000246  \n",
      "1682  0.000296  0.000615  \n",
      "3714  0.000395  0.531358  \n"
     ]
    }
   ],
   "source": [
    "print(df_x_test[0:3])"
   ]
  },
  {
   "cell_type": "code",
   "execution_count": 16,
   "id": "4295378b",
   "metadata": {
    "scrolled": true
   },
   "outputs": [
    {
     "name": "stdout",
     "output_type": "stream",
     "text": [
      "[3. 3. 7. 8. 0. 1. 2. 5. 8. 3.]\n",
      "[3 3 7 8 0 1 2 5 8 3]\n",
      "[3. 3. 7. 8. 0. 1. 2. 5. 8. 3.]\n",
      "3436    3.0\n",
      "1682    3.0\n",
      "3714    7.0\n",
      "686     8.0\n",
      "2061    0.0\n",
      "447     1.0\n",
      "1927    2.0\n",
      "2985    5.0\n",
      "3449    8.0\n",
      "2820    3.0\n",
      "Name: 16, dtype: float64\n"
     ]
    }
   ],
   "source": [
    "result_rf = RF.predict(df_x_test[0:10])\n",
    "result_xgb = XGB.predict(df_x_test[0:10])\n",
    "result_gbm = GBM.predict(df_x_test[0:10])\n",
    "print(result_rf[0:10])\n",
    "print(result_xgb[0:10])\n",
    "print(result_gbm[0:10])\n",
    "print(df_y_test[0:10])"
   ]
  },
  {
   "cell_type": "code",
   "execution_count": 11,
   "id": "c0a8237e",
   "metadata": {},
   "outputs": [
    {
     "data": {
      "text/plain": [
       "['property/gbm_test.joblib']"
      ]
     },
     "execution_count": 11,
     "metadata": {},
     "output_type": "execute_result"
    }
   ],
   "source": [
    "import joblib\n",
    "\n",
    "XGB.save_model(\"property/xgb_test.json\")\n",
    "joblib.dump(RF31, \"property/rf_test.joblib\")\n",
    "joblib.dump(GB31, \"property/gb_test.joblib\")"
   ]
  }
 ],
 "metadata": {
  "kernelspec": {
   "display_name": "HnsEnv",
   "language": "python",
   "name": "hnsenv"
  },
  "language_info": {
   "codemirror_mode": {
    "name": "ipython",
    "version": 3
   },
   "file_extension": ".py",
   "mimetype": "text/x-python",
   "name": "python",
   "nbconvert_exporter": "python",
   "pygments_lexer": "ipython3",
   "version": "3.9.7"
  }
 },
 "nbformat": 4,
 "nbformat_minor": 5
}
