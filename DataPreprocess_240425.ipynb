{
 "cells": [
  {
   "cell_type": "code",
   "execution_count": 2,
   "id": "859065bd",
   "metadata": {},
   "outputs": [],
   "source": [
    "import pandas as pd\n",
    "import numpy as np\n",
    "\n",
    "data = pd.read_csv('data_240425/P2_2A_17.csv', encoding='cp949') # 데이터 경로 지정\n",
    "\n",
    "target_var = [\"LD1 Temp\", \"LD2 Temp\", \"LD3 Temp\", \"Rx1 Temp\", \"Rx2 Temp\", \"S1 Temp\", \"S2 Temp\", \"FR Mon\", \n",
    "             \"mPD1_dS\", \"mPD2_dS\", \"mPD3_dS\", \"T-rPD_L1dS\", \"T-rPD_L2dS\", \"T-rPD_L3dS\", \"R-rPD_L1dS\", \"R-rPD_L2dS\", \"R-rPD_L3dS\"]\n",
    "\n",
    "data = data[target_var] # 필요한 특성 값들만 분리.(CGM값도 전처리에서 제외되니 분리)"
   ]
  },
  {
   "cell_type": "code",
   "execution_count": 3,
   "id": "ffe0ddba",
   "metadata": {},
   "outputs": [],
   "source": [
    "import torch\n",
    "from sklearn.preprocessing import StandardScaler\n",
    "\n",
    "def preprocess(data) -> tuple:\n",
    "    X = data.values\n",
    "    X_key = data.keys()\n",
    "\n",
    "    scaler = StandardScaler()\n",
    "    X = scaler.fit_transform(X)\n",
    "    \n",
    "    X_data = pd.DataFrame(np.round(X, 6), columns=X_key) # 전처리된 값을 소수점 6자리까지 표현\n",
    "    return X_data\n",
    "\n",
    "preprocessed_data = preprocess(data)\n",
    "preprocessed_data.to_csv('data_240425/P2_preprocessed.csv', index=False)"
   ]
  }
 ],
 "metadata": {
  "kernelspec": {
   "display_name": "HnsEnv",
   "language": "python",
   "name": "hnsenv"
  },
  "language_info": {
   "codemirror_mode": {
    "name": "ipython",
    "version": 3
   },
   "file_extension": ".py",
   "mimetype": "text/x-python",
   "name": "python",
   "nbconvert_exporter": "python",
   "pygments_lexer": "ipython3",
   "version": "3.9.7"
  }
 },
 "nbformat": 4,
 "nbformat_minor": 5
}
