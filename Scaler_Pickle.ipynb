{
 "cells": [
  {
   "cell_type": "code",
   "execution_count": 2,
   "id": "a47f32df",
   "metadata": {},
   "outputs": [],
   "source": [
    "import pandas as pd\n",
    "\n",
    "origin_data1_31 = pd.read_csv('data2/CGM1_dSr31.csv', encoding='cp949')\n",
    "origin_data2_31 = pd.read_csv('data2/CGM2_dSr31.csv', encoding='cp949')\n",
    "origin_data3_31 = pd.read_csv('data2/CGM3_dSr31.csv', encoding='cp949')\n",
    "origin_data4_31 = pd.read_csv('data2/CGM4_dSr31.csv', encoding='cp949')"
   ]
  },
  {
   "cell_type": "code",
   "execution_count": 3,
   "id": "04fb8d5a",
   "metadata": {},
   "outputs": [
    {
     "name": "stdout",
     "output_type": "stream",
     "text": [
      "744\n"
     ]
    }
   ],
   "source": [
    "def filter_data(origin_data, columns):\n",
    "    data = origin_data[columns]\n",
    "    data = data[data[\"Glu2(mg/dl)\"] > 0]\n",
    "    data = data[data[columns[3]] != 0]\n",
    "    return data\n",
    "\n",
    "common_var = [\"Glu2(mg/dl)\", \"LD1 Temp\", \"LD2 Temp\", \"LD3 Temp\", \"Rx1 Temp\", \"Rx2 Temp\", \"S1 T(C)\", \"S2 T(C)\", \"S3 T(C)\", \"FR Mon\", \"LD_Bias_Av\"]\n",
    "columns31 = common_var + [\"mPDdSr31\", \"T-rPDdSr31\", \"R-rPDdSr31\"]\n",
    "\n",
    "data_R1_31 = filter_data(origin_data1_31, columns31)\n",
    "data_R2_31 = filter_data(origin_data2_31, columns31)\n",
    "data_R3_31 = filter_data(origin_data3_31, columns31)\n",
    "data_R4_31 = filter_data(origin_data4_31, columns31)\n",
    "\n",
    "data31 = pd.concat([data_R1_31, data_R2_31, data_R4_31])\n",
    "print(len(data31))"
   ]
  },
  {
   "cell_type": "code",
   "execution_count": 8,
   "id": "22d328e4",
   "metadata": {},
   "outputs": [],
   "source": [
    "import torch\n",
    "from pickle import dump\n",
    "from sklearn.model_selection import train_test_split\n",
    "from sklearn.preprocessing import StandardScaler\n",
    "\n",
    "def preprocess(data , dt=False) -> tuple:\n",
    "    if dt:\n",
    "        data = data.astype({'Glu2(mg/dl)':'int'})\n",
    "    \n",
    "    X = data.drop('Glu2(mg/dl)', axis=1).values\n",
    "    y = data['Glu2(mg/dl)'].values\n",
    "    y = y.round(0)\n",
    "    X_train, X_test, y_train, y_test = train_test_split(X, y, test_size=0.2, random_state=77)\n",
    "\n",
    "    scaler = StandardScaler()\n",
    "    X_train = scaler.fit_transform(X_train)\n",
    "    X_test = scaler.transform(X_test)\n",
    "    \n",
    "    dump(scaler, open('./scaler31.pkl', 'wb'))\n",
    "    \n",
    "    return torch.tensor(X_train, dtype=torch.float32), \\\n",
    "        torch.tensor(y_train, dtype=torch.float32), \\\n",
    "        torch.tensor(X_test, dtype=torch.float32), \\\n",
    "        torch.tensor(y_test, dtype=torch.float32)"
   ]
  },
  {
   "cell_type": "code",
   "execution_count": 9,
   "id": "8101406f",
   "metadata": {},
   "outputs": [],
   "source": [
    "data31 = preprocess(data31, True)"
   ]
  }
 ],
 "metadata": {
  "kernelspec": {
   "display_name": "HnsEnv",
   "language": "python",
   "name": "hnsenv"
  },
  "language_info": {
   "codemirror_mode": {
    "name": "ipython",
    "version": 3
   },
   "file_extension": ".py",
   "mimetype": "text/x-python",
   "name": "python",
   "nbconvert_exporter": "python",
   "pygments_lexer": "ipython3",
   "version": "3.9.7"
  }
 },
 "nbformat": 4,
 "nbformat_minor": 5
}
