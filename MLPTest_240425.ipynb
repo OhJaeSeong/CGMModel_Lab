{
 "cells": [
  {
   "cell_type": "code",
   "execution_count": 1,
   "id": "afffef87",
   "metadata": {},
   "outputs": [],
   "source": [
    "import pandas as pd\n",
    "import numpy as np\n",
    "import torch\n",
    "from sklearn.preprocessing import StandardScaler\n",
    "from model import MLP\n",
    "\n",
    "def preprocess(data) -> tuple:\n",
    "    X = data.values\n",
    "    X_key = data.keys()\n",
    "\n",
    "    scaler = StandardScaler()\n",
    "    X = scaler.fit_transform(X)\n",
    "    \n",
    "    X_data = pd.DataFrame(np.round(X, 6), columns=X_key) # 전처리된 값을 소수점 6자리까지 표현\n",
    "    return X_data\n",
    "\n",
    "data = pd.read_csv('data_240425/P2_2A.csv', encoding='cp949') # 데이터 경로 지정\n",
    "target_var = [\"LD1 Temp\", \"LD2 Temp\", \"LD3 Temp\", \"Rx1 Temp\", \"Rx2 Temp\", \"S1 Temp\", \"S2 Temp\", \"FR Mon\", \n",
    "             \"mPD1_dS\", \"mPD2_dS\", \"mPD3_dS\", \"T-rPD_L1dS\", \"T-rPD_L2dS\", \"T-rPD_L3dS\", \"R-rPD_L1dS\", \"R-rPD_L2dS\", \"R-rPD_L3dS\"]\n",
    "\n",
    "data = data[target_var]\n",
    "preprocessed_data = preprocess(data) # 이미 정규화가 된 데이터의 경우 패스\n",
    "\n",
    "model_mlp = MLP(17)"
   ]
  },
  {
   "cell_type": "code",
   "execution_count": 7,
   "id": "92e81d55",
   "metadata": {},
   "outputs": [
    {
     "data": {
      "text/plain": [
       "<All keys matched successfully>"
      ]
     },
     "execution_count": 7,
     "metadata": {},
     "output_type": "execute_result"
    }
   ],
   "source": [
    "mlp_weight = torch.load(\"property2/mlp.pt\")\n",
    "model_mlp.load_state_dict(mlp_weight)"
   ]
  },
  {
   "cell_type": "code",
   "execution_count": 3,
   "id": "51da7487",
   "metadata": {},
   "outputs": [],
   "source": [
    "np_data = preprocessed_data.to_numpy()\n",
    "tensor_data = torch.from_numpy(np_data).float()"
   ]
  },
  {
   "cell_type": "code",
   "execution_count": 4,
   "id": "2d9cf6d2",
   "metadata": {},
   "outputs": [],
   "source": [
    "y = model_mlp(tensor_data)"
   ]
  },
  {
   "cell_type": "code",
   "execution_count": 5,
   "id": "7608b60c",
   "metadata": {},
   "outputs": [
    {
     "data": {
      "text/plain": [
       "tensor([[246.9069],\n",
       "        [246.7290],\n",
       "        [282.5210],\n",
       "        [274.1469],\n",
       "        [285.2186],\n",
       "        [286.0799],\n",
       "        [282.9111],\n",
       "        [264.3293],\n",
       "        [294.3615],\n",
       "        [292.0136],\n",
       "        [286.5308],\n",
       "        [123.1903],\n",
       "        [176.4815],\n",
       "        [186.7022],\n",
       "        [200.2236],\n",
       "        [265.7680],\n",
       "        [193.0388],\n",
       "        [173.1332],\n",
       "        [181.3310],\n",
       "        [200.6045],\n",
       "        [294.0693],\n",
       "        [278.0440],\n",
       "        [287.6486],\n",
       "        [311.4867],\n",
       "        [236.6039],\n",
       "        [284.9384],\n",
       "        [285.0607],\n",
       "        [265.5876],\n",
       "        [297.2532],\n",
       "        [294.3746],\n",
       "        [298.1118],\n",
       "        [307.3489],\n",
       "        [280.5146],\n",
       "        [294.9925],\n",
       "        [282.6047],\n",
       "        [315.2949],\n",
       "        [295.0684],\n",
       "        [298.4664],\n",
       "        [299.9221],\n",
       "        [301.3126],\n",
       "        [271.0940],\n",
       "        [239.3591],\n",
       "        [208.3963],\n",
       "        [301.0227],\n",
       "        [310.9859],\n",
       "        [278.9607],\n",
       "        [157.8088],\n",
       "        [287.5419],\n",
       "        [164.2011],\n",
       "        [278.1378],\n",
       "        [298.0712],\n",
       "        [300.9523],\n",
       "        [305.8102],\n",
       "        [263.6032],\n",
       "        [292.7282],\n",
       "        [289.5514],\n",
       "        [259.6769],\n",
       "        [174.1568],\n",
       "        [175.1765],\n",
       "        [211.1551],\n",
       "        [193.7697],\n",
       "        [233.0056],\n",
       "        [181.0721],\n",
       "        [314.6925],\n",
       "        [277.0946],\n",
       "        [255.4090],\n",
       "        [302.9496],\n",
       "        [281.9657],\n",
       "        [200.4140],\n",
       "        [262.1832],\n",
       "        [258.1237],\n",
       "        [226.4760],\n",
       "        [214.4701],\n",
       "        [291.9070],\n",
       "        [228.4876],\n",
       "        [221.7094],\n",
       "        [248.1122],\n",
       "        [249.1132],\n",
       "        [293.8338],\n",
       "        [277.6694],\n",
       "        [239.2049],\n",
       "        [303.3095],\n",
       "        [229.8781],\n",
       "        [241.8622],\n",
       "        [257.2750],\n",
       "        [271.0795],\n",
       "        [267.9247],\n",
       "        [342.8129],\n",
       "        [284.6435],\n",
       "        [245.2576],\n",
       "        [272.0711],\n",
       "        [306.4504],\n",
       "        [274.1350],\n",
       "        [323.3414],\n",
       "        [284.6783],\n",
       "        [328.9970],\n",
       "        [330.6450],\n",
       "        [264.1346]], grad_fn=<MulBackward0>)"
      ]
     },
     "execution_count": 5,
     "metadata": {},
     "output_type": "execute_result"
    }
   ],
   "source": [
    "y"
   ]
  }
 ],
 "metadata": {
  "kernelspec": {
   "display_name": "HnsEnv",
   "language": "python",
   "name": "hnsenv"
  },
  "language_info": {
   "codemirror_mode": {
    "name": "ipython",
    "version": 3
   },
   "file_extension": ".py",
   "mimetype": "text/x-python",
   "name": "python",
   "nbconvert_exporter": "python",
   "pygments_lexer": "ipython3",
   "version": "3.9.7"
  }
 },
 "nbformat": 4,
 "nbformat_minor": 5
}
