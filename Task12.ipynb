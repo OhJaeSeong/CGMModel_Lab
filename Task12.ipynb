{
 "cells": [
  {
   "cell_type": "code",
   "execution_count": 1,
   "id": "fe61c983",
   "metadata": {},
   "outputs": [],
   "source": [
    "import pandas as pd\n",
    "\n",
    "data1 = pd.read_csv('data3/P2_2A.csv', encoding='cp949')\n",
    "data2 = pd.read_csv('data3/P2_2P.csv', encoding='cp949')\n",
    "data3 = pd.read_csv('data3/P2_3A.csv', encoding='cp949')\n",
    "data4 = pd.read_csv('data3/P2_3P.csv', encoding='cp949')\n",
    "data5 = pd.read_csv('data3/P2_4A.csv', encoding='cp949')\n",
    "data6 = pd.read_csv('data3/P2_4P.csv', encoding='cp949')\n",
    "data7 = pd.read_csv('data3/P2_5A.csv', encoding='cp949')\n",
    "data8 = pd.read_csv('data3/P2_5P.csv', encoding='cp949')\n",
    "data9 = pd.read_csv('data3/P2_6A.csv', encoding='cp949')\n",
    "data10 = pd.read_csv('data3/P2_6P.csv', encoding='cp949')"
   ]
  },
  {
   "cell_type": "code",
   "execution_count": 2,
   "id": "87b7cbd8",
   "metadata": {},
   "outputs": [
    {
     "name": "stdout",
     "output_type": "stream",
     "text": [
      "1468\n"
     ]
    }
   ],
   "source": [
    "def filter_data(origin_data, columns):\n",
    "    data = origin_data[columns]\n",
    "    data = data[data[\"CGM(mg/dl)\"] > 0]\n",
    "    return data\n",
    "\n",
    "common_var = [\"CGM(mg/dl)\", \"LD1 Temp\", \"LD2 Temp\", \"LD3 Temp\", \"Rx1 Temp\", \"Rx2 Temp\", \"S1 Temp\", \"S2 Temp\", \"FR Mon\", \n",
    "             \"mPD1_dS\", \"mPD2_dS\", \"mPD3_dS\", \"T-rPD_L1dS\", \"T-rPD_L2dS\", \"T-rPD_L3dS\", \"R-rPD_L1dS\", \"R-rPD_L2dS\", \"R-rPD_L3dS\"]\n",
    "\n",
    "dataR1 = filter_data(data1, common_var)\n",
    "dataR2 = filter_data(data2, common_var)\n",
    "dataR3 = filter_data(data3, common_var)\n",
    "dataR4 = filter_data(data4, common_var)\n",
    "dataR5 = filter_data(data1, common_var)\n",
    "dataR6 = filter_data(data2, common_var)\n",
    "dataR7 = filter_data(data3, common_var)\n",
    "dataR8 = filter_data(data4, common_var)\n",
    "dataR9 = filter_data(data1, common_var)\n",
    "dataR10 = filter_data(data2, common_var)\n",
    "\n",
    "dataR = pd.concat([dataR1, dataR2, dataR3, dataR4, dataR5, dataR6, dataR7, dataR8, dataR9, dataR10])\n",
    "\n",
    "print(len(dataR))"
   ]
  },
  {
   "cell_type": "code",
   "execution_count": 3,
   "id": "4891ffef",
   "metadata": {},
   "outputs": [
    {
     "name": "stderr",
     "output_type": "stream",
     "text": [
      "C:\\Users\\ojski\\anaconda3\\envs\\HnsEnv\\lib\\site-packages\\scipy\\__init__.py:146: UserWarning: A NumPy version >=1.16.5 and <1.23.0 is required for this version of SciPy (detected version 1.26.2\n",
      "  warnings.warn(f\"A NumPy version >={np_minversion} and <{np_maxversion}\"\n"
     ]
    }
   ],
   "source": [
    "import torch\n",
    "from sklearn.model_selection import train_test_split\n",
    "from sklearn.preprocessing import StandardScaler\n",
    "\n",
    "from torch.utils.data import DataLoader, TensorDataset\n",
    "from tqdm import tqdm\n",
    "\n",
    "def preprocess(data , dt=False) -> tuple:\n",
    "    if dt:\n",
    "        data = data.astype({'CGM(mg/dl)':'int'})\n",
    "    \n",
    "    X = data.drop('CGM(mg/dl)', axis=1).values\n",
    "    y = data['CGM(mg/dl)'].values\n",
    "    y = y.round(0)\n",
    "    X_train, X_test, y_train, y_test = train_test_split(X, y, test_size=0.2, random_state=77)\n",
    "\n",
    "    scaler = StandardScaler()\n",
    "    X_train = scaler.fit_transform(X_train)\n",
    "    X_test = scaler.transform(X_test)\n",
    "    \n",
    "    return torch.tensor(X_train, dtype=torch.float32), \\\n",
    "        torch.tensor(y_train, dtype=torch.float32), \\\n",
    "        torch.tensor(X_test, dtype=torch.float32), \\\n",
    "        torch.tensor(y_test, dtype=torch.float32)\n",
    "\n",
    "dataR = preprocess(dataR, True)"
   ]
  },
  {
   "cell_type": "code",
   "execution_count": 4,
   "id": "59002504",
   "metadata": {},
   "outputs": [],
   "source": [
    "from torch import onnx\n",
    "\n",
    "def train_model(model, train_loader, num_epochs, learning_rate, name:str):\n",
    "    criterion = torch.nn.MSELoss()\n",
    "    optimizer = torch.optim.Adam(model.parameters(), lr=learning_rate)\n",
    "    device = torch.device('cuda' if torch.cuda.is_available() else 'cpu')\n",
    "    \n",
    "    model.to(device)\n",
    "    epoch_losses = []\n",
    "    for epoch in tqdm(range(num_epochs), desc=f'Train {name}'):\n",
    "        total_loss = 0\n",
    "        total_batches = 0\n",
    "        for X, y in train_loader:\n",
    "            X = X.to(device)\n",
    "            y = y.to(device)\n",
    "            with torch.set_grad_enabled(True):\n",
    "                y_hat = model(X)\n",
    "                loss = criterion(y_hat.squeeze(), y)\n",
    "                total_loss += loss.item()\n",
    "                total_batches += 1\n",
    "            optimizer.zero_grad()\n",
    "            loss.backward()\n",
    "            optimizer.step()\n",
    "        epoch_loss = total_loss / total_batches\n",
    "        epoch_losses.append(epoch_loss)\n",
    "    \n",
    "    torch.save(model.state_dict(), f'property2/{name}.pt')\n",
    "    onnx.export(model, X.to(device), f'property2/{name}.onnx')\n",
    "    return epoch_losses"
   ]
  },
  {
   "cell_type": "code",
   "execution_count": 5,
   "id": "1fe578eb",
   "metadata": {},
   "outputs": [],
   "source": [
    "from torch.utils.data import DataLoader, TensorDataset\n",
    "\n",
    "batch_size = 8\n",
    "num_epochs = 100\n",
    "learning_rate = 0.001\n",
    "\n",
    "train_loaderR = DataLoader(TensorDataset(dataR[0].unsqueeze(1), dataR[1]), batch_size=batch_size, shuffle=True)"
   ]
  },
  {
   "cell_type": "code",
   "execution_count": 6,
   "id": "0da09536",
   "metadata": {},
   "outputs": [
    {
     "name": "stderr",
     "output_type": "stream",
     "text": [
      "Train conv1d: 100%|██████████████████████████████████████████████████████████████████| 100/100 [00:35<00:00,  2.83it/s]\n",
      "C:\\Work\\CGM\\ETRI_CGM_Analysis_ModelDev\\JaeseongArea\\model\\_1d_conv_net.py:28: TracerWarning: Converting a tensor to a Python integer might cause the trace to be incorrect. We can't record the data flow of Python values, so this value will be treated as a constant in the future. This means that the trace might not generalize to other inputs!\n",
      "  x = functional.avg_pool1d(x, kernel_size=int(x.size(dim=2)))\n",
      "Train mlp: 100%|█████████████████████████████████████████████████████████████████████| 100/100 [00:31<00:00,  3.19it/s]\n"
     ]
    }
   ],
   "source": [
    "from model import MLP, Conv1DModel, LinearRegressionModel\n",
    "\n",
    "model_conv = Conv1DModel(1, 2)\n",
    "losses_conv1d = train_model(model_conv, train_loaderR, num_epochs, learning_rate, 'conv1d')\n",
    "\n",
    "model_mlp = MLP(17)\n",
    "losses_mlp = train_model(model_mlp, train_loaderR, num_epochs, learning_rate, 'mlp')"
   ]
  },
  {
   "cell_type": "code",
   "execution_count": 7,
   "id": "edf0b715",
   "metadata": {},
   "outputs": [
    {
     "data": {
      "image/png": "[encoded data removed]",
      "text/plain": [
       "<Figure size 720x360 with 1 Axes>"
      ]
     },
     "metadata": {},
     "output_type": "display_data"
    }
   ],
   "source": [
    "import matplotlib.pyplot as plt\n",
    "import seaborn as sns\n",
    "\n",
    "def draw_graph(ax, loss_mlp, loss_conv1d, title):\n",
    "    ax.plot(loss_mlp, label='MLP')\n",
    "    ax.plot(loss_conv1d, label='Conv1D')\n",
    "    ax.legend()\n",
    "    ax.set_xlabel('Epoch')\n",
    "    ax.set_ylabel('Loss')\n",
    "    ax.set_title(title)\n",
    "    ax.set_ylim(0, 500)\n",
    "    ax.set_xlim(0, num_epochs)\n",
    "\n",
    "    \n",
    "sns.set_style('whitegrid')\n",
    "sns.set_palette('Set1')\n",
    "\n",
    "fig, (ax1) = plt.subplots(1, 1, figsize=(10, 5))\n",
    "draw_graph(ax1, losses_mlp, losses_conv1d, 'R1')\n",
    "\n",
    "plt.tight_layout()\n",
    "plt.show()"
   ]
  },
  {
   "cell_type": "code",
   "execution_count": 8,
   "id": "a9176755",
   "metadata": {},
   "outputs": [],
   "source": [
    "import numpy\n",
    "from sklearn.metrics import mean_squared_error, r2_score\n",
    "\n",
    "def model_infer(model, loder) -> tuple:\n",
    "    device = torch.device('cuda' if torch.cuda.is_available() else 'cpu')\n",
    "    y_pred = []\n",
    "    y_true = []\n",
    "    model.to(device)\n",
    "    model.eval()\n",
    "    with torch.no_grad():\n",
    "        for X, y in loder:\n",
    "            X = X.to(device)\n",
    "            y = y.to(device)\n",
    "            y_hat = model(X)\n",
    "            y_pred.append(y_hat.cpu().numpy())\n",
    "            y_true.append(y.cpu().numpy())\n",
    "    y_pred = numpy.concatenate(y_pred)\n",
    "    y_true = numpy.concatenate(y_true)\n",
    "    rms = numpy.sqrt(mean_squared_error(y_true, y_pred.squeeze()))\n",
    "    r2 = r2_score(y_true, y_pred.squeeze())\n",
    "    return y_pred, y_true, rms, r2  \n",
    "\n",
    "def append_graph(ax, y, y_pred, title):\n",
    "    ax.scatter(y, y_pred, s=1, label=title)# 'MLP_L23'\n",
    "    ax.plot([75, 200], [75, 200], 'k--')\n",
    "    ax.set_xlabel('True')\n",
    "    ax.set_ylabel('Pred')\n",
    "    ax.set_title(f'{title} (RMS: {rms:.2f}, R2: {r2:.2f})')"
   ]
  },
  {
   "cell_type": "code",
   "execution_count": 9,
   "id": "163afe6f",
   "metadata": {},
   "outputs": [
    {
     "data": {
      "image/png": "[encoded data removed]",
      "text/plain": [
       "<Figure size 720x360 with 2 Axes>"
      ]
     },
     "metadata": {},
     "output_type": "display_data"
    }
   ],
   "source": [
    "import numpy\n",
    "import csv\n",
    "\n",
    "test_loaderR = DataLoader(TensorDataset(dataR[2].unsqueeze(1), dataR[3]), batch_size=1, shuffle=True)\n",
    "\n",
    "sns.set_style('whitegrid')\n",
    "sns.set_palette('Set1')\n",
    "\n",
    "fig, (ax1) = plt.subplots(1, 2, figsize=(10, 5))\n",
    "\n",
    "y_pred_m, y_true_m, rms, r2 = model_infer(model_mlp, test_loaderR)\n",
    "append_graph(ax1[0], y_true_m, y_pred_m, 'MLP1')\n",
    "y_pred_c, y_true_c, rms, r2 = model_infer(model_conv, test_loaderR)\n",
    "append_graph(ax1[1], y_true_c, y_pred_c, 'Conv1d1')\n",
    "\n",
    "\n",
    "plt.tight_layout()\n",
    "plt.show()\n",
    "\n",
    "min_count = len(y_pred_m)\n",
    "\n",
    "\n",
    "mlp_data = [['Concat', 'true', 'pred']]\n",
    "for n in range(0, min_count):\n",
    "    mlp_data.append(['', y_true_m[n], y_pred_m[n][0][0]])\n",
    "\n",
    "f_mlp = open('result/mlp_concat_result.csv','w', newline='')\n",
    "writer = csv.writer(f_mlp)\n",
    "writer.writerows(mlp_data)\n",
    "f_mlp.close()\n",
    "\n",
    "\n",
    "conv_data = [['Concat', 'true', 'pred']]\n",
    "for n in range(0, min_count):\n",
    "    conv_data.append(['', y_true_c[n], y_pred_c[n][0]])\n",
    "\n",
    "f_conv = open('result/conv_concat_result.csv','w', newline='')\n",
    "writer = csv.writer(f_conv)\n",
    "writer.writerows(conv_data)\n",
    "f_conv.close()"
   ]
  },
  {
   "cell_type": "code",
   "execution_count": 10,
   "id": "5ecc72ed",
   "metadata": {},
   "outputs": [
    {
     "name": "stdout",
     "output_type": "stream",
     "text": [
      "tensor([[[ 9.9462e-01,  9.8799e-01,  1.0477e+00, -9.5446e-01,  1.0405e+00,\n",
      "           4.3057e-01,  6.0868e-01,  6.8426e-01, -7.2277e-01, -5.8215e-01,\n",
      "           3.1013e-02, -7.4839e-01, -2.7510e-01, -8.7704e-01, -7.5250e-01,\n",
      "          -5.2435e-01,  1.3626e-01]],\n",
      "\n",
      "        [[ 1.1030e+00,  1.0964e+00,  1.0477e+00,  2.4584e-01,  1.1490e+00,\n",
      "           1.3190e-02,  1.1474e+00,  6.5106e-01, -7.6346e-01, -3.7902e-01,\n",
      "          -2.7018e-01, -7.6285e-01, -3.4602e-01,  2.4341e-01, -7.5750e-01,\n",
      "          -2.9843e-01,  5.6913e-01]],\n",
      "\n",
      "        [[ 9.9462e-01,  1.0964e+00,  1.0477e+00,  2.4584e-01,  9.3195e-01,\n",
      "          -2.0699e+00, -1.1221e+00,  6.7772e-01, -7.4652e-01, -9.7242e-01,\n",
      "          -2.0618e-01, -9.3720e-01, -6.1936e-01, -8.9920e-01, -6.9012e-01,\n",
      "           5.4284e-01,  4.3443e-01]],\n",
      "\n",
      "        [[-1.0447e+00, -9.4681e-01, -1.0087e+00,  2.4584e-01, -9.9737e-01,\n",
      "           1.8855e-02,  1.3780e-01,  2.9968e-01,  1.3506e+00, -8.9038e-01,\n",
      "           2.6056e-01,  2.2538e+00,  8.0584e-01,  1.7999e+00,  1.3248e+00,\n",
      "           3.4462e-01,  1.0020e+00]],\n",
      "\n",
      "        [[ 8.8629e-01,  8.7955e-01,  9.3856e-01, -9.5446e-01,  9.3195e-01,\n",
      "           6.7042e-01,  1.3489e+00,  5.8983e-01, -7.4182e-01, -3.9711e-01,\n",
      "          -3.5301e-02, -5.6309e-01, -9.8499e-01, -1.9159e-03, -7.6371e-01,\n",
      "          -3.3605e-01,  4.3608e-01]]], device='cuda:0')\n",
      "tensor([[[152.5862]],\n",
      "\n",
      "        [[319.9363]],\n",
      "\n",
      "        [[150.0363]],\n",
      "\n",
      "        [[277.8690]],\n",
      "\n",
      "        [[318.4281]]], device='cuda:0', grad_fn=<MulBackward0>)\n"
     ]
    }
   ],
   "source": [
    "data = (dataR[2].unsqueeze(1)).to(\"cuda\")\n",
    "result = model_mlp(data[0:5])\n",
    "print(data[0:5])\n",
    "print(result)"
   ]
  }
 ],
 "metadata": {
  "kernelspec": {
   "display_name": "HnsEnv",
   "language": "python",
   "name": "hnsenv"
  },
  "language_info": {
   "codemirror_mode": {
    "name": "ipython",
    "version": 3
   },
   "file_extension": ".py",
   "mimetype": "text/x-python",
   "name": "python",
   "nbconvert_exporter": "python",
   "pygments_lexer": "ipython3",
   "version": "3.9.7"
  }
 },
 "nbformat": 4,
 "nbformat_minor": 5
}
