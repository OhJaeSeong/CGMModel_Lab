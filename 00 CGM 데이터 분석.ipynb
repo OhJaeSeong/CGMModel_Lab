{
 "cells": [
  {
   "cell_type": "markdown",
   "id": "40860c33",
   "metadata": {},
   "source": [
    "# CGM 데이터 분석\n",
    "\n",
    "### 작성날짜 : 23.10.11\n",
    "\n",
    "#### 2개의 csv파일 데이터 읽기"
   ]
  },
  {
   "cell_type": "code",
   "execution_count": 1,
   "id": "185d6b02",
   "metadata": {
    "scrolled": true
   },
   "outputs": [
    {
     "name": "stderr",
     "output_type": "stream",
     "text": [
      "C:\\Users\\ojski\\anaconda3\\envs\\HnsEnv\\lib\\site-packages\\IPython\\core\\interactiveshell.py:3135: DtypeWarning: Columns (15) have mixed types.Specify dtype option on import or set low_memory=False.\n",
      "  has_raised = await self.run_ast_nodes(code_ast.body, cell_name,\n"
     ]
    }
   ],
   "source": [
    "import pickle\n",
    "import pandas as pd\n",
    "import numpy as np\n",
    "import matplotlib.pyplot as plt\n",
    "import seaborn as sns\n",
    "\n",
    "plt.rcParams['font.family'] = 'Malgun Gothic'\n",
    "\n",
    "# train_xlsx = pd.read_excel(\"DA0927_STP1.xlsx\")\n",
    "# train_xlsx.to_csv(\"cgm_data/in.csv\")\n",
    "\n",
    "cgm_data1 = pd.read_csv('cgm_data/DA0927_STP1.csv',index_col=[0])\n",
    "cgm_data2 =pd.read_csv('cgm_data/DA0927_STP2.csv',index_col=[0])"
   ]
  },
  {
   "cell_type": "markdown",
   "id": "8fc8bd60",
   "metadata": {},
   "source": [
    "#### csv데이터 병합"
   ]
  },
  {
   "cell_type": "code",
   "execution_count": 2,
   "id": "149c36bb",
   "metadata": {
    "scrolled": false
   },
   "outputs": [
    {
     "name": "stdout",
     "output_type": "stream",
     "text": [
      "59261 42309\n",
      "101570\n"
     ]
    }
   ],
   "source": [
    "cgm_datas = pd.DataFrame()\n",
    "print(len(cgm_data1), len(cgm_data2))\n",
    "\n",
    "cgm_datas = pd.concat([cgm_datas, cgm_data1])\n",
    "cgm_datas = pd.concat([cgm_datas, cgm_data2])\n",
    "\n",
    "print(len(cgm_datas))"
   ]
  },
  {
   "cell_type": "markdown",
   "id": "ad138df0",
   "metadata": {},
   "source": [
    "#### 혈당량 G(mg/dL) 가 0이하 (0, -1)이거나  Meas가 FALSE값인 경우 데이터 표본에서 제외"
   ]
  },
  {
   "cell_type": "code",
   "execution_count": 3,
   "id": "d80f4d90",
   "metadata": {},
   "outputs": [
    {
     "name": "stdout",
     "output_type": "stream",
     "text": [
      "79006\n"
     ]
    }
   ],
   "source": [
    "cgm_datas.drop(cgm_datas[(cgm_datas['G(mg/dL)'] <= 0) | (cgm_datas['Meas?'] == False)].index, inplace=True)\n",
    "print(len(cgm_datas))"
   ]
  },
  {
   "cell_type": "markdown",
   "id": "552baa4c",
   "metadata": {},
   "source": [
    "#### 표 만들기 위한 함수"
   ]
  },
  {
   "cell_type": "code",
   "execution_count": 4,
   "id": "f68b0f38",
   "metadata": {},
   "outputs": [],
   "source": [
    "def make_excel(datas, var_group, var_data):\n",
    "    count = 0\n",
    "    for var in var_group:\n",
    "        var_data[count][0] = datas[datas[var] > 0][var].mean() # [var] [datas[var] > 0][var]\n",
    "        var_data[count][1] = datas[datas[var] > 0][var].var()\n",
    "        var_data[count][2] = datas[datas[var] > 0][var].std()\n",
    "        var_data[count][3] = datas[datas[var] > 0][var].min()\n",
    "        var_data[count][4] = datas[datas[var] > 0][var].max()\n",
    "        count += 1\n",
    "    \n",
    "    return var_data\n",
    "\n",
    "def make_newData(cgm_datas):\n",
    "    cgm_datas.drop(cgm_datas[(cgm_datas['mPD1_dS'] == 0) & (cgm_datas['mPD2_dS'] == 0) & (cgm_datas['mPD3_dS'] == 0) &\n",
    "                            (cgm_datas['T-rPD_L1dS'] == 0) & (cgm_datas['T-rPD_L2dS'] == 0) & (cgm_datas['T-rPD_L3dS'] == 0) &\n",
    "                            (cgm_datas['R-rPD_L1dS'] == 0) & (cgm_datas['R-rPD_L2dS'] == 0) & (cgm_datas['R-rPD_L3dS'] == 0) &\n",
    "                            (cgm_datas['LD123_Bias_Av'] == 0)].index, inplace=True)\n",
    "    return cgm_datas"
   ]
  },
  {
   "cell_type": "markdown",
   "id": "5837c8e5",
   "metadata": {},
   "source": [
    "#### 환경변수 그룹 12개 + 관심변수 6개 변수에 대한 평균, 분산, 최대최소 값 도출"
   ]
  },
  {
   "cell_type": "code",
   "execution_count": 5,
   "id": "8fa8ec71",
   "metadata": {},
   "outputs": [],
   "source": [
    "variable_group1 = ['LD1 Temp', 'LD2 Temp', 'LD3 Temp', 'Rx1 Temp', 'Rx2 Temp', 'S1 T(C)', 'S2 T(C)', 'FR Mon'] \n",
    "variable_group2 = ['LD123_Bias_Av', 'mPD1_dS', 'mPD2_dS', 'mPD3_dS']\n",
    "variable_group3 = ['T-rPD_L1dS', 'T-rPD_L2dS', 'T-rPD_L3dS', 'R-rPD_L1dS', 'R-rPD_L2dS', 'R-rPD_L3dS']\n",
    "\n",
    "number_data = ['mean', 'var', 'std', 'min', 'max']\n",
    "# 'G(mg/dL)'\n",
    "\n",
    "# statistic1 = pd.DataFrame(columns=number_data, index=variable_group1)\n",
    "# statistic2 = pd.DataFrame(columns=number_data, index=variable_group2)\n",
    "\n",
    "var_data1 = [[0 for j in range(5)] for i in range(len(variable_group1))]\n",
    "var_data2 = [[0 for j in range(5)] for i in range(len(variable_group2))]\n",
    "var_data3 = [[0 for j in range(5)] for i in range(len(variable_group3))]\n",
    "\n",
    "var_data1 = make_excel(cgm_datas, variable_group1, var_data1)\n",
    "statistic1 = pd.DataFrame(var_data1, columns=number_data, index=variable_group1)\n",
    "\n",
    "var_data2 = make_excel(cgm_datas, variable_group2, var_data2)\n",
    "statistic2 = pd.DataFrame(var_data2, columns=number_data, index=variable_group2)\n",
    "\n",
    "var_data3 = make_excel(cgm_datas, variable_group3, var_data3)\n",
    "statistic3 = pd.DataFrame(var_data3, columns=number_data, index=variable_group3)"
   ]
  },
  {
   "cell_type": "markdown",
   "id": "dfdcf35b",
   "metadata": {},
   "source": [
    "#### 데이터 csv파일로 저장"
   ]
  },
  {
   "cell_type": "code",
   "execution_count": 6,
   "id": "d4a67fec",
   "metadata": {
    "scrolled": true
   },
   "outputs": [
    {
     "name": "stdout",
     "output_type": "stream",
     "text": [
      "                      mean           var         std          min          max\n",
      "LD1 Temp         26.847898      0.000534    0.023117    26.745000    26.960000\n",
      "LD2 Temp         26.849628      0.000534    0.023106    26.745000    26.960000\n",
      "LD3 Temp         26.854912      0.000958    0.030947    26.745000    26.960000\n",
      "Rx1 Temp         26.268068      0.000511    0.022605    26.208000    26.325000\n",
      "Rx2 Temp         26.384744      0.000562    0.023709    26.297000    26.449000\n",
      "S1 T(C)          24.847111      0.843487    0.918415    22.904000    25.957000\n",
      "S2 T(C)          24.801606      0.756521    0.869782    23.092000    25.847000\n",
      "FR Mon         1636.825365     81.100814    9.005599  1603.074707  1651.522095\n",
      "LD123_Bias_Av     1.480366     10.278883    3.206070     0.300000    13.200000\n",
      "mPD1_dS         979.621185      2.677004    1.636155   977.373711   982.404442\n",
      "mPD2_dS           0.020226      0.000196    0.013995     0.000681     0.090601\n",
      "mPD3_dS           0.026666      0.000280    0.016745     0.000681     0.123980\n",
      "T-rPD_L1dS     1282.244059  20248.764008  142.298152  1075.598892  1478.570633\n",
      "T-rPD_L2dS     1028.510124  15018.294370  122.549151   789.282486  1207.260384\n",
      "T-rPD_L3dS     1118.829906  14788.026519  121.606030   881.332413  1284.659915\n",
      "R-rPD_L1dS      329.787196     17.439335    4.176043   324.479906   346.227199\n",
      "R-rPD_L2dS      183.588897      0.411121    0.641187   181.610966   185.850110\n",
      "R-rPD_L3dS     1419.720077     92.623635    9.624117  1386.724428  1435.809031\n"
     ]
    }
   ],
   "source": [
    "cgm_csv = pd.DataFrame()\n",
    "cgm_csv = pd.concat([cgm_csv, statistic1])\n",
    "cgm_csv = pd.concat([cgm_csv, statistic2])\n",
    "cgm_csv = pd.concat([cgm_csv, statistic3])\n",
    "\n",
    "print(cgm_csv)\n",
    "# cgm_csv.to_csv('data_analysis.csv',index = True) # csv 파일 저장 코드"
   ]
  },
  {
   "cell_type": "code",
   "execution_count": 7,
   "id": "b74ed08e",
   "metadata": {},
   "outputs": [
    {
     "name": "stdout",
     "output_type": "stream",
     "text": [
      "79006\n",
      "45356\n"
     ]
    }
   ],
   "source": [
    "print(len(cgm_datas))\n",
    "\n",
    "new_datas = pd.DataFrame()\n",
    "new_datas = make_newData(cgm_datas)\n",
    "\n",
    "print(len(new_datas))"
   ]
  }
 ],
 "metadata": {
  "kernelspec": {
   "display_name": "HnsEnv",
   "language": "python",
   "name": "hnsenv"
  },
  "language_info": {
   "codemirror_mode": {
    "name": "ipython",
    "version": 3
   },
   "file_extension": ".py",
   "mimetype": "text/x-python",
   "name": "python",
   "nbconvert_exporter": "python",
   "pygments_lexer": "ipython3",
   "version": "3.9.7"
  }
 },
 "nbformat": 4,
 "nbformat_minor": 5
}
