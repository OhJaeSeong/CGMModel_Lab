{
 "cells": [
  {
   "cell_type": "markdown",
   "id": "fed7e54d",
   "metadata": {},
   "source": [
    "#### Glucose Set 분석"
   ]
  },
  {
   "cell_type": "code",
   "execution_count": 1,
   "id": "6b63f45c",
   "metadata": {},
   "outputs": [],
   "source": [
    "import pandas as pd\n",
    "\n",
    "glocose_data = pd.read_csv('data/Glucose_Set-2A-1.csv',index_col=[0])\n",
    "cgm_datas = pd.DataFrame(glocose_data)"
   ]
  },
  {
   "cell_type": "markdown",
   "id": "c240e0ae",
   "metadata": {},
   "source": [
    "#### 표 만들기 위한 함수"
   ]
  },
  {
   "cell_type": "code",
   "execution_count": 2,
   "id": "959f388d",
   "metadata": {},
   "outputs": [],
   "source": [
    "def make_excel(datas, var_group, var_data):\n",
    "    count = 0\n",
    "    for var in var_group:\n",
    "        var_data[count][0] = datas[datas[var] > 0][var].mean() # [var] [datas[var] > 0][var]\n",
    "        var_data[count][1] = datas[datas[var] > 0][var].var()\n",
    "        var_data[count][2] = datas[datas[var] > 0][var].std()\n",
    "        var_data[count][3] = datas[datas[var] > 0][var].min()\n",
    "        var_data[count][4] = datas[datas[var] > 0][var].max()\n",
    "        count += 1\n",
    "    \n",
    "    return var_data"
   ]
  },
  {
   "cell_type": "markdown",
   "id": "29342b27",
   "metadata": {},
   "source": [
    "#### 환경변수 23개 항목에 대한 평균, 분산, 최대최소 값 도출"
   ]
  },
  {
   "cell_type": "code",
   "execution_count": 3,
   "id": "4430409c",
   "metadata": {},
   "outputs": [],
   "source": [
    "variable_group1 = ['mPD1', 'mPD2', 'mPD3', 'Th3_C', 'Th4_C', 'Th5_C', 'Th6_C', 'T-rPD'] \n",
    "variable_group2 = ['LD_C_Av', 'mPD1_AvD', 'mPD2_AvD', 'mPD3_AvD', 'Th3_AvD', 'Th4_AvD', 'Th5_AvD', 'Th6_AvD']\n",
    "variable_group3 = ['T-rPD_AvD', 'R-rPD_AvD', 'mPD1_AL-D', 'mPD2_AL-D', 'mPD3_AL-D', 'T-rPD_AL-D', 'R-rPD_AL-D']\n",
    "\n",
    "number_data = ['mean', 'var', 'std', 'min', 'max']\n",
    "\n",
    "var_data1 = [[0 for j in range(5)] for i in range(len(variable_group1))]\n",
    "var_data2 = [[0 for j in range(5)] for i in range(len(variable_group2))]\n",
    "var_data3 = [[0 for j in range(5)] for i in range(len(variable_group3))]\n",
    "\n",
    "var_data1 = make_excel(cgm_datas, variable_group1, var_data1)\n",
    "statistic1 = pd.DataFrame(var_data1, columns=number_data, index=variable_group1)\n",
    "\n",
    "var_data2 = make_excel(cgm_datas, variable_group2, var_data2)\n",
    "statistic2 = pd.DataFrame(var_data2, columns=number_data, index=variable_group2)\n",
    "\n",
    "var_data3 = make_excel(cgm_datas, variable_group3, var_data3)\n",
    "statistic3 = pd.DataFrame(var_data3, columns=number_data, index=variable_group3)"
   ]
  },
  {
   "cell_type": "markdown",
   "id": "853a7492",
   "metadata": {},
   "source": [
    "#### 데이터 csv파일로 저장"
   ]
  },
  {
   "cell_type": "code",
   "execution_count": 4,
   "id": "7d0fec5c",
   "metadata": {},
   "outputs": [
    {
     "name": "stdout",
     "output_type": "stream",
     "text": [
      "                  mean           var         std        min         max\n",
      "mPD1         67.461601   9818.916355   99.090445   3.967346  268.177307\n",
      "mPD2         91.317755  20224.088012  142.211420   4.005493  390.287628\n",
      "mPD3         84.060924  14244.459507  119.350155   4.921034  315.136932\n",
      "Th3_C        24.107085      0.032348    0.179855  23.609000   24.364000\n",
      "Th4_C        24.746438      0.009744    0.098709  24.493000   24.943000\n",
      "Th5_C        23.818981      0.007424    0.086162  23.533000   23.996000\n",
      "Th6_C        23.580070      0.049019    0.221401  22.861000   23.920000\n",
      "T-rPD       150.538821  10245.516103  101.220137  36.736095  322.232391\n",
      "LD_C_Av      11.715879     14.692426    3.833070   6.000000   16.300000\n",
      "mPD1_AvD      4.051828      0.000111    0.010546   4.024567    4.081788\n",
      "mPD2_AvD      4.118211      0.000137    0.011702   4.085603    4.154269\n",
      "mPD3_AvD      5.034815      0.000161    0.012681   5.001144    5.069810\n",
      "Th3_AvD      24.107002      0.032322    0.179783  23.619000   24.358000\n",
      "Th4_AvD      24.745950      0.009734    0.098662  24.497000   24.940000\n",
      "Th5_AvD      23.818932      0.007446    0.086291  23.533000   23.989000\n",
      "Th6_AvD      23.580587      0.048817    0.220947  22.867000   23.916000\n",
      "T-rPD_AvD    19.811123      0.000681    0.026092  19.745175   19.871062\n",
      "R-rPD_AvD    21.198353      0.000100    0.009988  21.168079   21.225300\n",
      "mPD1_AL-D    79.222696  11013.710888  104.946229   0.001000  264.042000\n",
      "mPD2_AL-D   111.208527  23123.298312  152.063468   0.001000  386.110000\n",
      "mPD3_AL-D    99.992235  15927.884950  126.205725   0.001000  310.079000\n",
      "T-rPD_AL-D  130.683960  10244.371344  101.214482  16.941328  302.294573\n",
      "R-rPD_AL-D    0.131793      0.008937    0.094534   0.000424    0.366215\n"
     ]
    }
   ],
   "source": [
    "cgm_csv = pd.DataFrame()\n",
    "cgm_csv = pd.concat([cgm_csv, statistic1])\n",
    "cgm_csv = pd.concat([cgm_csv, statistic2])\n",
    "cgm_csv = pd.concat([cgm_csv, statistic3])\n",
    "\n",
    "print(cgm_csv)\n",
    "# cgm_csv.to_csv('data_analysis_glucose.csv',index = True) # csv 파일 저장 코드"
   ]
  }
 ],
 "metadata": {
  "kernelspec": {
   "display_name": "HnsEnv",
   "language": "python",
   "name": "hnsenv"
  },
  "language_info": {
   "codemirror_mode": {
    "name": "ipython",
    "version": 3
   },
   "file_extension": ".py",
   "mimetype": "text/x-python",
   "name": "python",
   "nbconvert_exporter": "python",
   "pygments_lexer": "ipython3",
   "version": "3.9.7"
  }
 },
 "nbformat": 4,
 "nbformat_minor": 5
}
